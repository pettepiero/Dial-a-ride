{
 "cells": [
  {
   "cell_type": "code",
   "execution_count": null,
   "metadata": {},
   "outputs": [],
   "source": [
    "import copy\n",
    "from types import SimpleNamespace\n",
    "\n",
    "import vrplib\n",
    "import matplotlib\n",
    "import matplotlib.pyplot as plt\n",
    "import numpy as np\n",
    "import numpy.random as rnd\n",
    "\n",
    "from alns import ALNS\n",
    "from alns.accept import RecordToRecordTravel\n",
    "from alns.select import RouletteWheel\n",
    "from alns.stop import MaxIterations"
   ]
  },
  {
   "cell_type": "code",
   "execution_count": null,
   "metadata": {},
   "outputs": [],
   "source": [
    "%matplotlib inline\n",
    "SEED = 1234"
   ]
  },
  {
   "cell_type": "markdown",
   "metadata": {},
   "source": [
    "# Capacitated Vehicle Routing Problem with Time Windows\n",
    "Based on ALNS example of CVRP.\n",
    "\n",
    "NOTE: needs implementation of pick-up and drop-off of customers"
   ]
  },
  {
   "cell_type": "markdown",
   "metadata": {},
   "source": [
    "## Ideas for improvement\n",
    "\n",
    "-   Change from native lists to numpy arrays"
   ]
  },
  {
   "cell_type": "markdown",
   "metadata": {},
   "source": [
    "## Data\n",
    "Description of datasets and BKS can be found here:\n",
    "\n",
    "http://w.cba.neu.edu/~msolomon/problems.htm"
   ]
  },
  {
   "cell_type": "code",
   "execution_count": null,
   "metadata": {},
   "outputs": [],
   "source": [
    "data = vrplib.read_instance(\"../data/r1/r101.txt\", instance_format=\"solomon\")\n",
    "datac1 = vrplib.read_instance(\"../data/c1/c101.txt\", instance_format=\"solomon\")"
   ]
  },
  {
   "cell_type": "markdown",
   "metadata": {},
   "source": [
    "Depot location is the first location in node_coord, beacuse demand = 0"
   ]
  },
  {
   "cell_type": "code",
   "execution_count": null,
   "metadata": {},
   "outputs": [],
   "source": [
    "data['dimension'] = len(data['demand'])\n",
    "print(data.keys())"
   ]
  },
  {
   "cell_type": "code",
   "execution_count": null,
   "metadata": {},
   "outputs": [],
   "source": [
    "def plot_data(data, name=\"VRPTW Data\"):\n",
    "    \"\"\"\n",
    "    Plot the routes of the passed-in solution.\n",
    "    \"\"\"\n",
    "    fig, ax = plt.subplots(figsize=(12, 10))\n",
    "\n",
    "    ax.plot(data['node_coord'][1:, 0], data['node_coord'][1:, 1], 'o', label=\"Customers\")\n",
    "    ax.plot(\n",
    "        data[\"node_coord\"][0, 0], data[\"node_coord\"][0, 1], \"X\", label=\"Depot\"\n",
    "    )\n",
    "\n",
    "    ax.set_title(f\"{name}\")\n",
    "    ax.set_xlabel(\"X-coordinate\")\n",
    "    ax.set_ylabel(\"Y-coordinate\")\n",
    "    ax.legend(frameon=False, ncol=3)\n",
    "\n",
    "\n",
    "def plot_solution(solution, name=\"CVRP solution\"):\n",
    "    \"\"\"\n",
    "    Plot the routes of the passed-in solution.\n",
    "    \"\"\"\n",
    "    fig, ax = plt.subplots(figsize=(12, 10))\n",
    "    cmap = matplotlib.cm.rainbow(np.linspace(0, 1, len(solution.routes)))\n",
    "\n",
    "    for idx, route in enumerate(solution.routes):\n",
    "        ax.plot(\n",
    "            [data[\"node_coord\"][loc][0] for loc in [0] + route + [0]],\n",
    "            [data[\"node_coord\"][loc][1] for loc in [0] + route + [0]],\n",
    "            color=cmap[idx],\n",
    "            marker=\".\",\n",
    "        )\n",
    "\n",
    "    # Plot the depot\n",
    "    kwargs = dict(label=\"Depot\", zorder=3, marker=\"*\", s=750)\n",
    "    ax.scatter(*data[\"node_coord\"][0], c=\"tab:red\", **kwargs)\n",
    "\n",
    "    ax.set_title(f\"{name}\\n Total distance: {solution.cost}\")\n",
    "    ax.set_xlabel(\"X-coordinate\")\n",
    "    ax.set_ylabel(\"Y-coordinate\")\n",
    "    ax.legend(frameon=False, ncol=3)"
   ]
  },
  {
   "cell_type": "code",
   "execution_count": null,
   "metadata": {},
   "outputs": [],
   "source": [
    "plot_data(data)"
   ]
  },
  {
   "cell_type": "code",
   "execution_count": null,
   "metadata": {},
   "outputs": [],
   "source": [
    "def get_customer_info(data, idx):\n",
    "    \"\"\"\n",
    "    Get the customer information for the passed-in index.\n",
    "    \"\"\"\n",
    "    return {\n",
    "        \"index\": idx,\n",
    "        \"coords\": data[\"node_coord\"][idx],\n",
    "        \"demand\": data[\"demand\"][idx],\n",
    "        \"ready_time\": data[\"time_window\"][idx, 0],\n",
    "        \"due_time\": data[\"time_window\"][idx, 1],\n",
    "        \"service_time\": data[\"service_time\"][idx],\n",
    "    }"
   ]
  },
  {
   "cell_type": "markdown",
   "metadata": {},
   "source": [
    "## Solution state"
   ]
  },
  {
   "cell_type": "code",
   "execution_count": null,
   "metadata": {},
   "outputs": [],
   "source": [
    "class CvrptwState:\n",
    "    \"\"\"\n",
    "    Solution state for CVRPTW. It has two data members, routes and unassigned.\n",
    "    Routes is a list of list of integers, where each inner list corresponds to\n",
    "    a single route denoting the sequence of customers to be visited. A route\n",
    "    does not contain the start and end depot. Times is a list of list, containing\n",
    "    the planned arrival times for each customer in the routes. The outer list\n",
    "    corresponds to the routes, and the inner list corresponds to the customers of\n",
    "    the route. Unassigned is a list of integers, each integer representing an \n",
    "    unassigned customer.\n",
    "    \"\"\"\n",
    "\n",
    "    def __init__(self, routes, times, unassigned=None):\n",
    "        self.routes = routes\n",
    "        self.times = times     # planned arrival times for each customer\n",
    "        self.unassigned = unassigned if unassigned is not None else []\n",
    "\n",
    "    def copy(self):\n",
    "        return CvrptwState(\n",
    "            copy.deepcopy(self.routes), self.times.copy(), self.unassigned.copy()\n",
    "        )\n",
    "\n",
    "    def objective(self):\n",
    "        \"\"\"\n",
    "        Computes the total route costs.\n",
    "        \"\"\"\n",
    "        return sum(route_cost(route) for route in self.routes)\n",
    "\n",
    "    @property\n",
    "    def cost(self):\n",
    "        \"\"\"\n",
    "        Alias for objective method. Used for plotting.\n",
    "        \"\"\"\n",
    "        return self.objective()\n",
    "\n",
    "    def find_route(self, customer):\n",
    "        \"\"\"\n",
    "        Return the route that contains the passed-in customer.\n",
    "        \"\"\"\n",
    "        for route in self.routes:\n",
    "            if customer in route:\n",
    "                return route\n",
    "\n",
    "        raise ValueError(f\"Solution does not contain customer {customer}.\")\n",
    "\n",
    "    def update_times(self):\n",
    "        \"\"\"\n",
    "        Update the arrival times of each customer in the routes.\n",
    "        \"\"\"\n",
    "        for idx, route in enumerate(self.routes):\n",
    "            self.times[idx] = self.evaluate_times_of_route(route)\n",
    "\n",
    "    def evaluate_times_of_route(self, route):\n",
    "        \"\"\"\n",
    "        Update the arrival times of each customer in a given route.\n",
    "        \"\"\"\n",
    "        timings = [0]\n",
    "        current_position = 0\n",
    "        for customer in route:\n",
    "            movement_time = data[\"edge_weight\"][current_position][customer]\n",
    "            # add the service time of the last customer\n",
    "            timings.append(timings[-1] + data[\"service_time\"][current_position])\n",
    "            # add the movement time to reach next customer\n",
    "            timings[-1] = float(timings[-1] + movement_time)\n",
    "\n",
    "        return timings\n",
    "\n",
    "    def print_state_dimensions(self):\n",
    "        print(f\"Number of routes: {len(self.routes)}\")\n",
    "        print(f\"Length of routes: {[len(route) for route in self.routes]}\")\n",
    "        print(f\"Dimensions of times: {[len(route) for route in self.times]}\")\n",
    "        print(f\"Number of unassigned customers: {len(self.unassigned)}\")\n",
    "        print(f\"Number of customers in routes: {sum(len(route) for route in self.routes)}\")\n",
    "\n",
    "\n",
    "# NOTE: maybe add time influence on cost of solution ?\n",
    "def route_cost(route):\n",
    "    distances = data[\"edge_weight\"]\n",
    "    tour = [0] + route + [0]\n",
    "\n",
    "    return sum(\n",
    "        distances[tour[idx]][tour[idx + 1]] for idx in range(len(tour) - 1)\n",
    "    )"
   ]
  },
  {
   "cell_type": "markdown",
   "metadata": {},
   "source": [
    "## Destroy operators"
   ]
  },
  {
   "cell_type": "markdown",
   "metadata": {},
   "source": [
    "Destroy operators break parts of a solution down, leaving an incomplete state. This is the first part of each iteration of the ALNS meta-heuristic; the incomplete solution is subsequently repaired by any one repair operator. We will consider one destroy operator: **random removal**. We will also use a separate parameter, the degree of destruction, to control the extent of the damage done to a solution in each step."
   ]
  },
  {
   "cell_type": "code",
   "execution_count": null,
   "metadata": {},
   "outputs": [],
   "source": [
    "degree_of_destruction = 0.05\n",
    "customers_to_remove = int((data[\"dimension\"] - 1) * degree_of_destruction)\n",
    "print(f\"Removing {customers_to_remove} customers.\")"
   ]
  },
  {
   "cell_type": "code",
   "execution_count": null,
   "metadata": {},
   "outputs": [],
   "source": [
    "def random_removal(state, rng):\n",
    "    \"\"\"\n",
    "    Removes a number of randomly selected customers from the passed-in solution.\n",
    "    \"\"\"\n",
    "    destroyed = state.copy()\n",
    "\n",
    "    for customer in rng.choice(\n",
    "        range(1, data[\"dimension\"]), customers_to_remove, replace=False\n",
    "    ):\n",
    "        destroyed.unassigned.append(customer)\n",
    "        route = destroyed.find_route(customer)\n",
    "        route.remove(customer)\n",
    "\n",
    "    # NOTE: now evaluate the time of the modified routes and return them\n",
    "    destroyed.update_times()\n",
    "\n",
    "    return remove_empty_routes(destroyed)\n",
    "\n",
    "\n",
    "def remove_empty_routes(state):\n",
    "    \"\"\"\n",
    "    Remove empty routes and timings after applying the destroy operator.\n",
    "    \"\"\"\n",
    "    state.routes = [route for route in state.routes if len(route) != 0]\n",
    "    state.times = [timing for idx, timing in enumerate(state.times) if len(state.routes[idx]) != 0]\n",
    "    return state"
   ]
  },
  {
   "cell_type": "markdown",
   "metadata": {},
   "source": [
    "## Repair operators\n",
    "We implement a simple, **greedy repair** strategy. It iterates over the set of unassigned customers and finds the best route and index to insert to, i.e., with the least increase in cost. Time window constraints are implemented as follows in the **greedy repair**:\n",
    "\n",
    "1)  Within the set of unvisited nodes, first find those nodes that can be visited within the node's time window from the current end of each existing route\n",
    "2)  Add the node that is nearest to the end of some route to that route\n",
    "3)  If no unvisited nodes can be visited on time, make a new route just for that node"
   ]
  },
  {
   "cell_type": "code",
   "execution_count": null,
   "metadata": {},
   "outputs": [],
   "source": [
    "def greedy_repair(state, rng):\n",
    "    \"\"\"\n",
    "    Inserts the unassigned customers in the best route. If there are no\n",
    "    feasible insertions, then a new route is created.\n",
    "    \"\"\"\n",
    "    rng.shuffle(state.unassigned)\n",
    "\n",
    "    while len(state.unassigned) != 0:\n",
    "        customer = state.unassigned.pop()\n",
    "        route, idx = best_insert(customer, state)\n",
    "\n",
    "        if route is not None:\n",
    "            route.insert(idx, customer.item())\n",
    "            state.update_times()\n",
    "        else:\n",
    "            # Initialize a new route and corresponding timings\n",
    "            state.routes.append([customer.item()])\n",
    "            state.times.append([0])\n",
    "            state.update_times()    # NOTE: maybe not needed \n",
    "\n",
    "    return state\n",
    "\n",
    "\n",
    "def best_insert(customer, state):\n",
    "    \"\"\"\n",
    "    Finds the best feasible route and insertion idx for the customer.\n",
    "    Return (None, None) if no feasible route insertions are found.\n",
    "    \"\"\"\n",
    "    best_cost, best_route, best_idx = None, None, None\n",
    "\n",
    "    for route_number, route in enumerate(state.routes):\n",
    "        for idx in range(len(route) + 1):\n",
    "            #DEBUG\n",
    "            # print(f\"In best_insert: route_number = {route_number}, idx = {idx}\")\n",
    "            if can_insert(customer, route_number, idx, state):\n",
    "                cost = insert_cost(customer, route, idx)\n",
    "\n",
    "                if best_cost is None or cost < best_cost:\n",
    "                    best_cost, best_route, best_idx = cost, route, idx\n",
    "\n",
    "    return best_route, best_idx\n",
    "\n",
    "# NOTE: I think performance can be improved by changing this function\n",
    "def can_insert(customer, route_number, idx, state):\n",
    "    \"\"\"\n",
    "    Checks if inserting customer in route 'route_number' at position 'idx' does not exceed vehicle capacity and time window constraints.\n",
    "    \"\"\"\n",
    "\n",
    "    route = state.routes[route_number]\n",
    "    # Capacity check\n",
    "    total = data[\"demand\"][route].sum() + data[\"demand\"][customer]\n",
    "    if total > data[\"capacity\"]:\n",
    "        return False      \n",
    "    # Time window check\n",
    "    return time_window_check(state.times[route_number][idx - 1], route[idx - 1], customer)\n",
    "\n",
    "# NOTE: this is a terrible check.\n",
    "# It will accept any customer whose time window is after the calculated arrival time,\n",
    "# even if the vehicle is early.\n",
    "# Is the vehicle allowd to be early?\n",
    "def time_window_check(prev_customer_time, prev_customer, candidate_customer):\n",
    "    \"\"\"\n",
    "    Check if the candidate customer satisfies time-window constraints.\n",
    "    \"\"\"\n",
    "\n",
    "    return prev_customer_time + data[\"service_time\"][prev_customer] + data[\n",
    "        \"edge_weight\"][prev_customer][candidate_customer] <= data[\"time_window\"][candidate_customer][1]\n",
    "\n",
    "def insert_cost(customer, route, idx):\n",
    "    \"\"\"\n",
    "    Computes the insertion cost for inserting customer in route at idx.\n",
    "    \"\"\"\n",
    "    dist = data[\"edge_weight\"]\n",
    "    pred = 0 if idx == 0 else route[idx - 1]\n",
    "    succ = 0 if idx == len(route) else route[idx]\n",
    "\n",
    "    # Increase in cost of adding customer, minus cost of removing old edge\n",
    "    return dist[pred][customer] + dist[customer][succ] - dist[pred][succ]"
   ]
  },
  {
   "cell_type": "markdown",
   "metadata": {},
   "source": [
    "## Initial solution\n",
    "We need an initial solution that is going to be destroyed and repaired by the ALNS heuristic. To this end, we use a simple *nearest neighbor (NN)* heuristic. NN starts with an empty solution and iteratively adds the nearest customer to the routes. If there are no routes available, then a new route is created."
   ]
  },
  {
   "cell_type": "code",
   "execution_count": null,
   "metadata": {},
   "outputs": [],
   "source": [
    "def neighbors(customer):\n",
    "    \"\"\"\n",
    "    Return the nearest neighbors of the customer, excluding the depot.\n",
    "    \"\"\"\n",
    "    locations = np.argsort(data[\"edge_weight\"][customer])\n",
    "    return locations[locations != 0]\n",
    "\n",
    "\n",
    "def nearest_neighbor_tw():\n",
    "    \"\"\"\n",
    "    Build a solution by iteratively constructing routes, where the nearest\n",
    "    time-window compatible customer is added until the route has met the \n",
    "    vehicle capacity limit.\n",
    "    \"\"\"\n",
    "    routes = []\n",
    "    full_schedule = []\n",
    "    unvisited = set(range(1, data[\"dimension\"]))\n",
    "\n",
    "    while unvisited:\n",
    "        route = [0]  # Start at the depot\n",
    "        route_schedule = [0]\n",
    "        route_demands = 0\n",
    "\n",
    "        while unvisited:\n",
    "            # Add the nearest unvisited customer to the route till max capacity\n",
    "            current = route[-1]\n",
    "            nearest = [nb for nb in neighbors(current) if nb in unvisited][0]\n",
    "            nearest = int(nearest)\n",
    "\n",
    "            if route_demands + data[\"demand\"][nearest] > data[\"capacity\"]:\n",
    "                break\n",
    "\n",
    "            if not time_window_check(route_schedule[-1], current, nearest):\n",
    "                break\n",
    "\n",
    "            route.append(nearest)\n",
    "\n",
    "            route_schedule.append(\n",
    "                data[\"edge_weight\"][current][nearest].item()\n",
    "                + data[\"service_time\"][current].item()\n",
    "            )\n",
    "\n",
    "            unvisited.remove(nearest)\n",
    "            route_demands += data[\"demand\"][nearest]\n",
    "\n",
    "        customers = route[1:]  # Remove the depot\n",
    "        routes.append(customers)\n",
    "        full_schedule.append(route_schedule)\n",
    "\n",
    "    return CvrptwState(routes, full_schedule)"
   ]
  },
  {
   "cell_type": "code",
   "execution_count": null,
   "metadata": {},
   "outputs": [],
   "source": [
    "initial_solution = nearest_neighbor_tw()\n",
    "\n",
    "plot_solution(initial_solution, \"Nearest neighbor solution\")"
   ]
  },
  {
   "cell_type": "markdown",
   "metadata": {},
   "source": [
    "## Heuristic solution\n",
    "\n",
    "Let's now construct our ALNS heuristic. Since we only have one destroy and repair operator, we do not actually use any adaptive operator selection -- but you can easily add more destroy and repair operators. "
   ]
  },
  {
   "cell_type": "code",
   "execution_count": null,
   "metadata": {},
   "outputs": [],
   "source": [
    "alns = ALNS(rnd.default_rng(SEED))\n",
    "\n",
    "alns.add_destroy_operator(random_removal)\n",
    "\n",
    "alns.add_repair_operator(greedy_repair)"
   ]
  },
  {
   "cell_type": "code",
   "execution_count": null,
   "metadata": {},
   "outputs": [],
   "source": [
    "num_iterations = 3000\n",
    "init = nearest_neighbor_tw()\n",
    "select = RouletteWheel([25, 5, 1, 0], 0.8, 1, 1)\n",
    "accept = RecordToRecordTravel.autofit(\n",
    "    init.objective(), 0.02, 0, num_iterations\n",
    ")\n",
    "stop = MaxIterations(num_iterations)\n",
    "result = alns.iterate(init, select, accept, stop)"
   ]
  },
  {
   "cell_type": "code",
   "execution_count": null,
   "metadata": {},
   "outputs": [],
   "source": [
    "solution = result.best_state\n",
    "objective = solution.objective()\n",
    "print(f\"Best heuristic objective is {objective}.\")"
   ]
  },
  {
   "cell_type": "code",
   "execution_count": null,
   "metadata": {},
   "outputs": [],
   "source": [
    "_, ax = plt.subplots(figsize=(12, 6))\n",
    "result.plot_objectives(ax=ax)"
   ]
  },
  {
   "cell_type": "code",
   "execution_count": null,
   "metadata": {},
   "outputs": [],
   "source": [
    "plot_solution(solution, \"Heuristic solution\")"
   ]
  },
  {
   "cell_type": "code",
   "execution_count": null,
   "metadata": {},
   "outputs": [],
   "source": []
  }
 ],
 "metadata": {
  "kernelspec": {
   "display_name": ".venv",
   "language": "python",
   "name": "python3"
  },
  "language_info": {
   "codemirror_mode": {
    "name": "ipython",
    "version": 3
   },
   "file_extension": ".py",
   "mimetype": "text/x-python",
   "name": "python",
   "nbconvert_exporter": "python",
   "pygments_lexer": "ipython3",
   "version": "3.12.2"
  }
 },
 "nbformat": 4,
 "nbformat_minor": 2
}
