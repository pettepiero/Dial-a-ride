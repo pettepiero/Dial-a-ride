{
 "cells": [
  {
   "cell_type": "code",
   "execution_count": null,
   "metadata": {},
   "outputs": [],
   "source": [
    "import copy\n",
    "import random\n",
    "from types import SimpleNamespace\n",
    "from typing import List\n",
    "import pandas as pd\n",
    "import vrplib\n",
    "\n",
    "from tqdm import tqdm\n",
    "import time\n",
    "import matplotlib.pyplot as plt\n",
    "import numpy as np\n",
    "import numpy.random as rnd\n",
    "\n",
    "from alns import ALNS\n",
    "from alns.accept import RecordToRecordTravel\n",
    "from alns.select import RouletteWheel, RandomSelect\n",
    "from alns.stop import MaxIterations\n",
    "\n",
    "from myvrplib import plot_solution, plot_data, verify_time_windows, LOGGING_LEVEL\n",
    "from data_module import data, END_OF_DAY\n",
    "from route import Route\n",
    "from vrpstates import CvrptwState\n",
    "from initial_solutions.initial_solutions import nearest_neighbor_tw\n",
    "from operators.destroy import *\n",
    "from operators.repair import *\n",
    "from operators.wang_operators import *"
   ]
  },
  {
   "cell_type": "code",
   "execution_count": null,
   "metadata": {},
   "outputs": [],
   "source": [
    "%matplotlib inline\n",
    "SEED = 1234\n",
    "from myvrplib import END_OF_DAY"
   ]
  },
  {
   "cell_type": "code",
   "execution_count": null,
   "metadata": {},
   "outputs": [],
   "source": [
    "import logging\n",
    "logger = logging.getLogger(__name__)\n",
    "logging.basicConfig(level=LOGGING_LEVEL)"
   ]
  },
  {
   "cell_type": "markdown",
   "metadata": {},
   "source": [
    "# Implementation of wang 2024\n",
    "https://www.sciencedirect.com/science/article/pii/S0360835224002432?via%3Dihub\n",
    "\n",
    "NOTE: data['dimension'] is the number of customers only, not including depots"
   ]
  },
  {
   "cell_type": "code",
   "execution_count": null,
   "metadata": {},
   "outputs": [],
   "source": [
    "plot_data(data)"
   ]
  },
  {
   "cell_type": "code",
   "execution_count": null,
   "metadata": {},
   "outputs": [],
   "source": [
    "data.keys()"
   ]
  },
  {
   "cell_type": "code",
   "execution_count": null,
   "metadata": {},
   "outputs": [],
   "source": [
    "print(data[\"dimension\"])\n",
    "print(len(data[\"node_coord\"]))\n",
    "print(len(data[\"demand\"]))\n",
    "print(len(data[\"time_window\"]))\n",
    "print(len(data[\"service_time\"]))\n",
    "print(data[\"capacity\"])\n",
    "print(data[\"edge_weight\"].shape)"
   ]
  },
  {
   "cell_type": "markdown",
   "metadata": {},
   "source": [
    "## Solution state"
   ]
  },
  {
   "cell_type": "code",
   "execution_count": null,
   "metadata": {},
   "outputs": [],
   "source": [
    "def get_customer_info(data, state: CvrptwState, idx: int, cordeau: bool = False):\n",
    "    \"\"\"\n",
    "    Get the customer information for the passed-in index.\n",
    "    \"\"\"\n",
    "    if cordeau:\n",
    "        if idx == 0:\n",
    "            print(\"Error: in Cordeau notation index 0 is a fake customer\")\n",
    "            return\n",
    "        \n",
    "    route = state.find_route(idx)\n",
    "    if route is not None:\n",
    "        index_in_route = state.find_index_in_route(idx, route)\n",
    "        route_index = state.routes.index(route)\n",
    "        print(f\"index_in_route: {index_in_route}\")\n",
    "        print(f\"route: {route}\")\n",
    "\n",
    "        dict = {\n",
    "            \"index\": idx,\n",
    "            \"coords\": data[\"node_coord\"][idx],\n",
    "            \"demand\": data[\"demand\"][idx].item(),\n",
    "            \"ready time\": data[\"time_window\"][idx][0].item(),\n",
    "            \"due time\": data[\"time_window\"][idx][1].item(),\n",
    "            \"service_time\": data[\"service_time\"][idx].item(),\n",
    "            \"route\": route,\n",
    "        }\n",
    "    else:\n",
    "        print(f\"Customer {idx} is not in any route\")\n",
    "        dict = {\n",
    "            \"index\": idx,\n",
    "            \"coords\": data[\"node_coord\"][idx],\n",
    "            \"demand\": data[\"demand\"][idx].item(),\n",
    "            \"ready time\": data[\"time_window\"][idx][0].item(),\n",
    "            \"due time\": data[\"time_window\"][idx][1].item(),\n",
    "            \"service_time\": data[\"service_time\"][idx].item(),\n",
    "            \"route\": None,\n",
    "        }\n",
    "    return dict"
   ]
  },
  {
   "cell_type": "markdown",
   "metadata": {},
   "source": [
    "## Destroy operators"
   ]
  },
  {
   "cell_type": "markdown",
   "metadata": {},
   "source": [
    "Destroy operators break parts of a solution down, leaving an incomplete state. This is the first part of each iteration of the ALNS meta-heuristic; the incomplete solution is subsequently repaired by any one repair operator. We will consider one destroy operator: **random removal**. We will also use a separate parameter, the degree of destruction, to control the extent of the damage done to a solution in each step."
   ]
  },
  {
   "cell_type": "code",
   "execution_count": null,
   "metadata": {},
   "outputs": [],
   "source": [
    "degree_of_destruction = 0.05\n",
    "customers_to_remove = int((data[\"dimension\"] - 1) * degree_of_destruction)\n",
    "print(f\"Removing {customers_to_remove} customers.\")"
   ]
  },
  {
   "cell_type": "markdown",
   "metadata": {},
   "source": [
    "## Repair operators\n",
    "We implement a simple, **greedy repair** strategy. It iterates over the set of unassigned customers and finds the best route and index to insert to, i.e., with the least increase in cost. Time window constraints are implemented as follows in the **greedy repair**:\n",
    "\n",
    "1)  Within the set of unvisited nodes, first find those nodes that can be visited within the node's time window from the current end of each existing route\n",
    "2)  Add the node that is nearest to the end of some route to that route\n",
    "3)  If no unvisited nodes can be visited on time, make a new route just for that node"
   ]
  },
  {
   "cell_type": "markdown",
   "metadata": {},
   "source": [
    "## Initial solution\n",
    "We need an initial solution that is going to be destroyed and repaired by the ALNS heuristic. To this end, we use a simple *nearest neighbor (NN)* heuristic. NN starts with an empty solution and iteratively adds the nearest customer to the routes. If there are no routes available, then a new route is created.\n",
    "\n",
    "### Choosing starting depot\n",
    "If the number of vehicles if larger than number of depots we split the number of vehicles between the depots.\n",
    "\n",
    "Otherwise, we choose randomly a depot and generate a route from it.\n",
    "NOTE: maybe performance of the model can be improved by changing the above policy"
   ]
  },
  {
   "cell_type": "code",
   "execution_count": null,
   "metadata": {},
   "outputs": [],
   "source": [
    "# calculate_depots(data)\n",
    "print(data['depot_to_vehicles'])\n",
    "print(data['vehicle_to_depot'])\n",
    "print(data['dimension'])"
   ]
  },
  {
   "cell_type": "code",
   "execution_count": null,
   "metadata": {},
   "outputs": [],
   "source": [
    "print(data['depots'])"
   ]
  },
  {
   "cell_type": "code",
   "execution_count": null,
   "metadata": {},
   "outputs": [],
   "source": [
    "initial_solution = nearest_neighbor_tw()\n",
    "\n",
    "plot_solution(data, initial_solution, \"Nearest neighbor solution\")"
   ]
  },
  {
   "cell_type": "code",
   "execution_count": null,
   "metadata": {},
   "outputs": [],
   "source": [
    "for route in initial_solution.routes:\n",
    "    print(route.customers_list)"
   ]
  },
  {
   "cell_type": "code",
   "execution_count": null,
   "metadata": {},
   "outputs": [],
   "source": [
    "late, early, ontime, left_out = verify_time_windows(data, initial_solution)\n",
    "print(f\"Late: {late}, Early: {early}, Ontime: {ontime}\")\n",
    "print(f\"Left out customers because of not enough routes/vehicles: {left_out}\")"
   ]
  },
  {
   "cell_type": "markdown",
   "metadata": {},
   "source": [
    "## Heuristic solution\n",
    "\n",
    "Let's now construct our ALNS heuristic. Since we only have one destroy and repair operator, we do not actually use any adaptive operator selection -- but you can easily add more destroy and repair operators. "
   ]
  },
  {
   "cell_type": "code",
   "execution_count": null,
   "metadata": {},
   "outputs": [],
   "source": [
    "alns = ALNS(rnd.default_rng(SEED))\n",
    "\n",
    "alns.add_destroy_operator(random_removal)\n",
    "alns.add_destroy_operator(random_route_removal)\n",
    "alns.add_destroy_operator(cost_reducing_removal)\n",
    "alns.add_destroy_operator(worst_removal)\n",
    "# alns.add_destroy_operator(exchange_reducing_removal)\n",
    "# alns.add_destroy_operator(shaw_removal)\n",
    "\n",
    "alns.add_repair_operator(greedy_repair)\n",
    "alns.add_repair_operator(wang_greedy_repair)"
   ]
  },
  {
   "cell_type": "code",
   "execution_count": null,
   "metadata": {},
   "outputs": [],
   "source": [
    "num_iterations = 20\n",
    "init = nearest_neighbor_tw()\n",
    "select = RouletteWheel([25, 5, 1, 0], 0.8, 4, 2)\n",
    "# select = RandomSelect(num_destroy=4, num_repair=2)\n",
    "accept = RecordToRecordTravel.autofit(\n",
    "    init.objective(), 0.02, 0, num_iterations\n",
    ")\n",
    "stop = MaxIterations(num_iterations)\n",
    "result, d_operators_log, r_operators_log = alns.iterate(init, select, accept, stop, data=data, save_plots=True)"
   ]
  },
  {
   "cell_type": "code",
   "execution_count": null,
   "metadata": {},
   "outputs": [],
   "source": [
    "operators = tuple([op[0] for op in alns.destroy_operators])\n",
    "cumulative_sums = np.cumsum(d_operators_log, axis=0)  # Plot each column\n",
    "rows = np.arange(d_operators_log.shape[0])\n",
    "fig, ax = plt.subplots(figsize=(10,10))\n",
    "for col_idx in range(d_operators_log.shape[1]-1):\n",
    "    plt.plot(rows, cumulative_sums[:, col_idx], label=f\"{operators[col_idx]}\")\n",
    "\n",
    "# Customize plot\n",
    "plt.xlabel(\"Iteration number\")\n",
    "plt.ylabel(\"Number of removals\")\n",
    "plt.title(\"Number of removals by destroy operator\")\n",
    "plt.legend()\n",
    "plt.grid(True)\n",
    "plt.show()"
   ]
  },
  {
   "cell_type": "code",
   "execution_count": null,
   "metadata": {},
   "outputs": [],
   "source": [
    "results_df = pd.DataFrame(result.statistics.destroy_operator_counts)\n",
    "\n",
    "print(tuple(result.statistics.destroy_operator_counts.keys()))"
   ]
  },
  {
   "cell_type": "code",
   "execution_count": null,
   "metadata": {},
   "outputs": [],
   "source": [
    "reasons = [\"Global best\", \"Better\", \"Accepted\" , \"Rejected\"]\n",
    "x = np.arange(len(reasons))\n",
    "width = 0.20\n",
    "multiplier = 0\n",
    "\n",
    "fig, ax = plt.subplots(layout='constrained')\n",
    "fig.tight_layout()\n",
    "for attribute, measurement in results_df.items():\n",
    "    offset = width*multiplier\n",
    "    rects = ax.bar(x + offset, measurement, width, label=attribute)\n",
    "    ax.bar_label(rects, padding=3)\n",
    "    multiplier += 1\n",
    "\n",
    "ax.set_ylabel('Count')\n",
    "ax.set_title('Destroy operator counts')\n",
    "ax.set_xticks(x + width, reasons)\n",
    "ax.legend(loc='right', ncols=1)\n",
    "# ax.set_xlim(0, 4)\n",
    "\n",
    "plt.show()"
   ]
  },
  {
   "cell_type": "code",
   "execution_count": null,
   "metadata": {},
   "outputs": [],
   "source": [
    "operators = tuple([op[0] for op in alns.repair_operators])\n",
    "print(operators)\n",
    "cumulative_sums = np.cumsum(r_operators_log, axis=0)  # Plot each column\n",
    "rows = np.arange(r_operators_log.shape[0])\n",
    "fig, ax = plt.subplots(figsize=(10, 10))\n",
    "for col_idx in range(r_operators_log.shape[1] - 1):\n",
    "    plt.plot(rows, cumulative_sums[:, col_idx], label=f\"{operators[col_idx]}\")\n",
    "\n",
    "# Customize plot\n",
    "plt.xlabel(\"Iteration number\")\n",
    "plt.ylabel(\"Number of insertions\")\n",
    "plt.title(\"Number of insertions by insertion operator\")\n",
    "plt.legend()\n",
    "plt.grid(True)\n",
    "plt.show()"
   ]
  },
  {
   "cell_type": "code",
   "execution_count": null,
   "metadata": {},
   "outputs": [],
   "source": [
    "results_df = pd.DataFrame(result.statistics.repair_operator_counts)\n",
    "print(results_df)\n",
    "\n",
    "reasons = [\"Global best\", \"Better\", \"Accepted\", \"Rejected\"]\n",
    "x = np.arange(len(reasons))\n",
    "width = 0.25\n",
    "multiplier = 0\n",
    "\n",
    "fig, ax = plt.subplots(layout=\"constrained\")\n",
    "\n",
    "for attribute, measurement in results_df.items():\n",
    "    offset = width * multiplier\n",
    "    rects = ax.bar(x + offset, measurement, width, label=attribute)\n",
    "    ax.bar_label(rects, padding=3)\n",
    "    multiplier += 1\n",
    "\n",
    "ax.set_ylabel(\"Count\")\n",
    "ax.set_title(\"Repair operator counts\")\n",
    "ax.set_xticks(x + width, reasons)\n",
    "ax.legend(loc=\"upper left\", ncols=4)\n",
    "ax.set_xlim(0, 4)"
   ]
  },
  {
   "cell_type": "code",
   "execution_count": null,
   "metadata": {},
   "outputs": [],
   "source": [
    "solution = result.best_state\n",
    "objective = solution.objective()\n",
    "print(f\"Best heuristic objective is {objective}.\")"
   ]
  },
  {
   "cell_type": "code",
   "execution_count": null,
   "metadata": {},
   "outputs": [],
   "source": [
    "_, ax = plt.subplots(figsize=(12, 6))\n",
    "result.plot_objectives(ax=ax)"
   ]
  },
  {
   "cell_type": "code",
   "execution_count": null,
   "metadata": {},
   "outputs": [],
   "source": [
    "plot_solution(data, initial_solution, \"Nearest-neighbor-solution\", save=True, figsize=(8, 8))\n",
    "plot_solution(data, solution, \"Heuristic-solution\", idx_annotations=False, save=True, figsize=(8, 8))"
   ]
  },
  {
   "cell_type": "code",
   "execution_count": null,
   "metadata": {},
   "outputs": [],
   "source": [
    "plot_solution(data, initial_solution, \"Nearest-neighbor-solution\", save=False, figsize=(8, 8))\n",
    "plot_solution(data, solution, \"Heuristic-solution\", idx_annotations=False, save=False, figsize=(8, 8))"
   ]
  },
  {
   "cell_type": "code",
   "execution_count": null,
   "metadata": {},
   "outputs": [],
   "source": [
    "print(f\"There are {len(initial_solution.routes)} routes\")\n",
    "served_customers = 0\n",
    "for route in initial_solution.routes:\n",
    "    customers = [cust for cust in route.customers_list if cust not in data[\"depots\"]]\n",
    "    served_customers += len(customers)\n",
    "    print(route.customers_list)\n",
    "\n",
    "print(f\"Total number of served customers: {served_customers}\")"
   ]
  },
  {
   "cell_type": "code",
   "execution_count": null,
   "metadata": {},
   "outputs": [],
   "source": [
    "print(f\"There are {len(solution.routes)} routes\")\n",
    "served_customers = 0\n",
    "for route in solution.routes:\n",
    "    customers = [cust for cust in route.customers_list if cust not in data['depots']]\n",
    "    served_customers += len(customers)\n",
    "    print(route.customers_list)\n",
    "\n",
    "\n",
    "print(f\"Total number of served customers: {served_customers}\")"
   ]
  },
  {
   "cell_type": "markdown",
   "metadata": {},
   "source": [
    "### Solution"
   ]
  },
  {
   "cell_type": "code",
   "execution_count": null,
   "metadata": {},
   "outputs": [],
   "source": [
    "def read_solution_format(file: str, print_data: bool = False) -> dict:\n",
    "    \"\"\"\n",
    "    Read a solution file with the described format.\n",
    "\n",
    "    Args:\n",
    "        file (str): Path to the file to be read.\n",
    "        print_data (bool): If True, print parsed data.\n",
    "\n",
    "    Returns:\n",
    "        dict: Parsed data structured as a dictionary.\n",
    "    \"\"\"\n",
    "    with open(file, \"r\") as f:\n",
    "        lines = f.readlines()\n",
    "\n",
    "    # First line contains the cost of the solution\n",
    "    solution_cost = float(lines[0].strip())\n",
    "\n",
    "    # Parse the remaining lines for route details\n",
    "    routes = []\n",
    "    for line in lines[1:]:\n",
    "        parts = line.split()\n",
    "        if len(parts) < 4:\n",
    "            continue  # Skip malformed lines\n",
    "\n",
    "        # Extract route details\n",
    "        day = int(parts[0])\n",
    "        vehicle = int(parts[1])\n",
    "        duration = float(parts[2])\n",
    "        load = float(parts[3])\n",
    "        # Extract the sequence of customers\n",
    "        customers = []\n",
    "        start_times = []\n",
    "        for segment in parts[4:]:\n",
    "            if \"(\" not in segment and \")\" not in segment:\n",
    "                customers.append(int(segment))\n",
    "            if \"(\" in segment and \")\" in segment:\n",
    "                _, start_time = segment.split(\"(\")\n",
    "                start_time = float(start_time.strip(\")\"))\n",
    "                start_times.append(start_time)\n",
    "\n",
    "        # Append route information to the list\n",
    "        routes.append(\n",
    "            {\n",
    "                \"day\": day,\n",
    "                \"vehicle\": vehicle,\n",
    "                \"duration\": duration,\n",
    "                \"load\": load,\n",
    "                \"customers\": customers,\n",
    "                \"star_times\": start_times,\n",
    "            }\n",
    "        )\n",
    "\n",
    "    # Compile all data into a dictionary\n",
    "    data = {\"solution_cost\": solution_cost, \"routes\": routes, \"n_vehicles\": len(routes)}\n",
    "\n",
    "    if print_data:\n",
    "        print(\"Solution Cost:\", solution_cost)\n",
    "        for route in routes:\n",
    "            print(f\"Day {route['day']}, Vehicle {route['vehicle']}:\")\n",
    "            print(f\"  Duration: {route['duration']}, Load: {route['load']}\")\n",
    "            print(f\"  Customers: {route['customers']}\")\n",
    "\n",
    "    return data\n",
    "\n",
    "\n",
    "# Example usage\n",
    "# data = read_solution_format(\"path_to_file.txt\", print_data=True)\n",
    "\n",
    "\n",
    "bks = read_solution_format(\"./data/c-mdvrptw-sol/pr01.res\", print_data=False)"
   ]
  },
  {
   "cell_type": "code",
   "execution_count": null,
   "metadata": {},
   "outputs": [],
   "source": [
    "print(bks.keys())\n",
    "print(len(bks['routes']))\n",
    "\n",
    "for route in bks[\"routes\"]:\n",
    "    print(route[\"customers\"])"
   ]
  },
  {
   "cell_type": "code",
   "execution_count": null,
   "metadata": {},
   "outputs": [],
   "source": [
    "def plot_bks(data: dict, solution, name= \"BKS\", figsize=(12, 10), save=False):\n",
    "\n",
    "    fig, ax = plt.subplots(figsize=figsize)\n",
    "    cmap = plt.get_cmap(\"Set2\", solution[\"n_vehicles\"])\n",
    "    cmap\n",
    "\n",
    "    for idx, route in enumerate(solution[\"routes\"]):\n",
    "        ax.plot(\n",
    "            [data[\"node_coord\"][loc][0] for loc in route[\"customers\"]],\n",
    "            [data[\"node_coord\"][loc][1] for loc in route[\"customers\"]],\n",
    "            color=cmap(idx),\n",
    "            marker=\".\",\n",
    "            label=f\"Vehicle {route['vehicle']}\",\n",
    "        )\n",
    "        for cust in route[\"customers\"]:\n",
    "            coords = data[\"node_coord\"][cust]\n",
    "            ax.plot(coords[0], coords[1], \"o\", c=cmap(idx))\n",
    "\n",
    "    kwargs = dict(zorder=3, marker=\"X\")\n",
    "\n",
    "    for i in range(data[\"dimension\"], data[\"dimension\"] + data[\"n_depots\"]):\n",
    "        depot = data[\"node_coord\"][i]\n",
    "        ax.plot(depot[0], depot[1], c=\"tab:red\", **kwargs, label=f\"Depot {i}\")\n",
    "\n",
    "    ax.scatter(*data[\"node_coord\"][0], c=\"tab:red\", label=\"Depot 0\", **kwargs)\n",
    "\n",
    "    ax.set_title(f\"{name}\\n Total distance: {solution[\"solution_cost\"]}\")\n",
    "    ax.set_xlabel(\"X-coordinate\")\n",
    "    ax.set_ylabel(\"Y-coordinate\")\n",
    "    ax.legend(frameon=False, ncol=3)\n",
    "\n",
    "    if save:\n",
    "        plt.savefig(f\"./plots/{name}.png\")\n",
    "        plt.close()\n",
    "\n",
    "plot_bks(data, bks, \"BKS solution\",)"
   ]
  },
  {
   "cell_type": "code",
   "execution_count": null,
   "metadata": {},
   "outputs": [],
   "source": [
    "print(f\"data['node_coord][0]: {data['node_coord'][0]}\")"
   ]
  }
 ],
 "metadata": {
  "kernelspec": {
   "display_name": ".venv",
   "language": "python",
   "name": "python3"
  },
  "language_info": {
   "codemirror_mode": {
    "name": "ipython",
    "version": 3
   },
   "file_extension": ".py",
   "mimetype": "text/x-python",
   "name": "python",
   "nbconvert_exporter": "python",
   "pygments_lexer": "ipython3",
   "version": "3.12.2"
  }
 },
 "nbformat": 4,
 "nbformat_minor": 2
}
