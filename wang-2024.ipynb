{
 "cells": [
  {
   "cell_type": "code",
   "execution_count": null,
   "metadata": {},
   "outputs": [],
   "source": [
    "# !git clone https://github.com/pettepiero/Dial-a-ride.git\n",
    "# %cd Dial-a-ride/\n",
    "# !pip install virtualenv\n",
    "# !virtualenv vrpenv # To set up the env\n",
    "# !source /content/Dial-a-ride/vrpenv/bin/activate\n",
    "# !source /content/Dial-a-ride/vrpenv/bin/activate"
   ]
  },
  {
   "cell_type": "code",
   "execution_count": null,
   "metadata": {},
   "outputs": [],
   "source": [
    "import copy\n",
    "import random\n",
    "from types import SimpleNamespace\n",
    "from typing import List\n",
    "import pandas as pd\n",
    "import vrplib\n",
    "\n",
    "from tqdm import tqdm\n",
    "import time\n",
    "import matplotlib.pyplot as plt\n",
    "import numpy as np\n",
    "import numpy.random as rnd\n",
    "\n",
    "from alns import ALNS\n",
    "from alns.accept import RecordToRecordTravel\n",
    "from alns.select import *\n",
    "from alns.stop import MaxIterations\n",
    "\n",
    "\n",
    "from cvrptw.myvrplib.myvrplib import plot_solution, plot_data, solution_times_statistics, LOGGING_LEVEL\n",
    "# from cvrptw.myvrplib import plot_solution, plot_data, solution_times_statistics, LOGGING_LEVEL\n",
    "from cvrptw.myvrplib.data_module import END_OF_DAY, read_solution_format\n",
    "# from cvrptw.myvrplib.data_module import d_data as d_data\n",
    "from cvrptw.myvrplib.data_module import data as full_data\n",
    "from cvrptw.myvrplib.route import Route\n",
    "from cvrptw.myvrplib.vrpstates import CvrptwState\n",
    "from cvrptw.initial_solutions.initial_solutions import nearest_neighbor_tw, time_neighbours\n",
    "from cvrptw.operators.destroy import *\n",
    "from cvrptw.operators.repair import *\n",
    "from cvrptw.operators.wang_operators import *\n",
    "from cvrptw.output.analyze_solution import verify_time_windows\n",
    "from cvrptw.myvrplib.data_module import read_cordeau_data"
   ]
  },
  {
   "cell_type": "code",
   "execution_count": null,
   "metadata": {},
   "outputs": [],
   "source": [
    "%matplotlib inline\n",
    "plt.style.use('seaborn-v0_8-colorblind')\n",
    "title_dict = {\"fontsize\": 25, \"fontweight\": \"bold\"}\n",
    "labels_dict = {\"fontsize\": 12, \"fontweight\": \"bold\"}\n",
    "legend_dict = {\"fontsize\": 15}\n",
    "SEED = 1234\n",
    "NUM_ITERATIONS = 200"
   ]
  },
  {
   "cell_type": "code",
   "execution_count": null,
   "metadata": {},
   "outputs": [],
   "source": [
    "import logging\n",
    "logger = logging.getLogger(__name__)\n",
    "logging.basicConfig(level=LOGGING_LEVEL)"
   ]
  },
  {
   "cell_type": "markdown",
   "metadata": {},
   "source": [
    "# Select data path\n",
    "Recommended: (without spaces)\n",
    "\n",
    "`path_to_cloned_folder + \"/data/\"`"
   ]
  },
  {
   "cell_type": "code",
   "execution_count": null,
   "metadata": {},
   "outputs": [],
   "source": [
    "data_path = \"/home/pettepiero/test2/Dial-a-ride-main/data/\"\n",
    "data = read_cordeau_data(data_path + \"c-mdvrptw/pr12\")"
   ]
  },
  {
   "cell_type": "markdown",
   "metadata": {},
   "source": [
    "# Implementation of wang 2024\n",
    "https://www.sciencedirect.com/science/article/pii/S0360835224002432?via%3Dihub\n",
    "\n",
    "NOTE: data['dimension'] is the number of customers only, not including depots"
   ]
  },
  {
   "cell_type": "code",
   "execution_count": null,
   "metadata": {},
   "outputs": [],
   "source": [
    "plot_data(data, idx_annotations=True)"
   ]
  },
  {
   "cell_type": "code",
   "execution_count": null,
   "metadata": {},
   "outputs": [],
   "source": [
    "plot_data(full_data, idx_annotations=True)"
   ]
  },
  {
   "cell_type": "code",
   "execution_count": null,
   "metadata": {},
   "outputs": [],
   "source": [
    "print(data)"
   ]
  },
  {
   "cell_type": "markdown",
   "metadata": {},
   "source": [
    "## Solution state"
   ]
  },
  {
   "cell_type": "code",
   "execution_count": null,
   "metadata": {},
   "outputs": [],
   "source": [
    "def get_customer_info(data, state: CvrptwState, idx: int, cordeau: bool = False):\n",
    "    \"\"\"\n",
    "    Get the customer information for the passed-in index.\n",
    "    \"\"\"\n",
    "    if cordeau:\n",
    "        if idx == 0:\n",
    "            print(\"Error: in Cordeau notation index 0 is a fake customer\")\n",
    "            return\n",
    "        \n",
    "    route = state.find_route(idx)\n",
    "    if route is not None:\n",
    "        index_in_route = state.find_index_in_route(idx, route)\n",
    "        route_index = state.routes.index(route)\n",
    "        print(f\"index_in_route: {index_in_route}\")\n",
    "        print(f\"route: {route}\")\n",
    "\n",
    "        dict = {\n",
    "            \"index\": idx,\n",
    "            \"coords\": data[\"node_coord\"][idx],\n",
    "            \"demand\": data[\"demand\"][idx].item(),\n",
    "            \"ready time\": data[\"time_window\"][idx][0].item(),\n",
    "            \"due time\": data[\"time_window\"][idx][1].item(),\n",
    "            \"service_time\": data[\"service_time\"][idx].item(),\n",
    "            \"route\": route,\n",
    "        }\n",
    "    else:\n",
    "        print(f\"Customer {idx} is not in any route\")\n",
    "        dict = {\n",
    "            \"index\": idx,\n",
    "            \"coords\": data[\"node_coord\"][idx],\n",
    "            \"demand\": data[\"demand\"][idx].item(),\n",
    "            \"ready time\": data[\"time_window\"][idx][0].item(),\n",
    "            \"due time\": data[\"time_window\"][idx][1].item(),\n",
    "            \"service_time\": data[\"service_time\"][idx].item(),\n",
    "            \"route\": None,\n",
    "        }\n",
    "    return dict"
   ]
  },
  {
   "cell_type": "markdown",
   "metadata": {},
   "source": [
    "## Destroy operators"
   ]
  },
  {
   "cell_type": "code",
   "execution_count": null,
   "metadata": {},
   "outputs": [],
   "source": [
    "degree_of_destruction = 0.05\n",
    "customers_to_remove = int((data[\"dimension\"] - 1) * degree_of_destruction)\n",
    "print(f\"Removing {customers_to_remove} customers.\")"
   ]
  },
  {
   "cell_type": "markdown",
   "metadata": {},
   "source": [
    "## Repair operators\n"
   ]
  },
  {
   "cell_type": "markdown",
   "metadata": {},
   "source": [
    "## Initial solution\n",
    "We need an initial solution that is going to be destroyed and repaired by the ALNS heuristic. To this end, we use a simple *nearest neighbor (NN)* heuristic. NN starts with an empty solution and iteratively adds the nearest customer to the routes. If there are no routes available, then a new route is created.\n",
    "\n",
    "### Choosing starting depot\n",
    "If the number of vehicles if larger than number of depots we split the number of vehicles between the depots.\n",
    "\n",
    "Otherwise, we choose randomly a depot and generate a route from it.\n",
    "NOTE: maybe performance of the model can be improved by changing the above policy"
   ]
  },
  {
   "cell_type": "code",
   "execution_count": null,
   "metadata": {},
   "outputs": [],
   "source": [
    "# calculate_depots(data)\n",
    "print(data['depot_to_vehicles'])\n",
    "print(data['vehicle_to_depot'])\n",
    "print(data['dimension'])"
   ]
  },
  {
   "cell_type": "code",
   "execution_count": null,
   "metadata": {},
   "outputs": [],
   "source": [
    "print(data['depots'])"
   ]
  },
  {
   "cell_type": "code",
   "execution_count": null,
   "metadata": {},
   "outputs": [],
   "source": [
    "initial_solution = nearest_neighbor_tw(initial_time_slot=False)\n",
    "\n",
    "plot_solution(data, initial_solution, \"Nearest neighbor solution\")"
   ]
  },
  {
   "cell_type": "code",
   "execution_count": null,
   "metadata": {},
   "outputs": [],
   "source": [
    "for route in initial_solution.routes:\n",
    "    print(route.customers_list)"
   ]
  },
  {
   "cell_type": "code",
   "execution_count": null,
   "metadata": {},
   "outputs": [],
   "source": [
    "initial_solution_stats = solution_times_statistics(data, initial_solution)\n",
    "print(initial_solution_stats)"
   ]
  },
  {
   "cell_type": "markdown",
   "metadata": {},
   "source": [
    "## Heuristic solution\n",
    "\n",
    "Let's now construct our ALNS heuristic. Since we only have one destroy and repair operator, we do not actually use any adaptive operator selection -- but you can easily add more destroy and repair r_operators. "
   ]
  },
  {
   "cell_type": "code",
   "execution_count": null,
   "metadata": {},
   "outputs": [],
   "source": [
    "# alns = ALNS(rnd.default_rng(SEED))\n",
    "alns = ALNS(rnd.default_rng())\n",
    "\n",
    "alns.add_destroy_operator(random_removal)\n",
    "alns.add_destroy_operator(random_route_removal)\n",
    "alns.add_destroy_operator(cost_reducing_removal)\n",
    "alns.add_destroy_operator(worst_removal)\n",
    "\n",
    "alns.add_destroy_operator(exchange_reducing_removal)\n",
    "# alns.add_destroy_operator(shaw_removal)   #to be implemented\n",
    "\n",
    "alns.add_repair_operator(greedy_repair_tw)\n",
    "alns.add_repair_operator(wang_greedy_repair)"
   ]
  },
  {
   "cell_type": "code",
   "execution_count": null,
   "metadata": {},
   "outputs": [],
   "source": [
    "num_iterations = NUM_ITERATIONS\n",
    "init = nearest_neighbor_tw(initial_time_slot=False)\n",
    "select = RouletteWheel([25, 5, 1, 0], 0.8, 5, 2)\n",
    "accept = RecordToRecordTravel.autofit(\n",
    "    init.objective(), 0.02, 0, num_iterations\n",
    ")\n",
    "stop = MaxIterations(num_iterations)\n",
    "result, destruction_counts, insertion_counts, d_operators_log, r_operators_log = alns.iterate(init, select, accept, stop, data=data, save_plots=False)"
   ]
  },
  {
   "cell_type": "code",
   "execution_count": null,
   "metadata": {},
   "outputs": [],
   "source": [
    "d_operators = tuple([op[0] for op in alns.destroy_operators])\n",
    "print(d_operators)\n",
    "d_ops_dict = {i: op for i, op in enumerate(d_operators)}"
   ]
  },
  {
   "cell_type": "code",
   "execution_count": null,
   "metadata": {},
   "outputs": [],
   "source": [
    "cumulative_sums = np.cumsum(destruction_counts, axis=0)  # Plot each column\n",
    "rows = np.arange(destruction_counts.shape[0])\n",
    "fig, ax = plt.subplots(figsize=(10,10))\n",
    "for col_idx in range(destruction_counts.shape[1]-1):\n",
    "    plt.plot(rows, cumulative_sums[:, col_idx], label=f\"{d_operators[col_idx]}\")\n",
    "\n",
    "# Customize plot\n",
    "plt.xlabel(\"Iteration number\", fontdict=labels_dict)\n",
    "plt.ylabel(\"Number of removals\", fontdict=labels_dict)\n",
    "plt.title(\"Number of removals by destroy operator\", fontdict=title_dict)\n",
    "plt.legend(**legend_dict)\n",
    "plt.grid(True)\n",
    "plt.show()"
   ]
  },
  {
   "cell_type": "code",
   "execution_count": null,
   "metadata": {},
   "outputs": [],
   "source": [
    "r_operators = tuple([op[0] for op in alns.repair_operators])\n",
    "r_ops_dict = {i: op for i, op in enumerate(r_operators)}\n",
    "print(r_operators)\n",
    "cumulative_sums = np.cumsum(insertion_counts, axis=0)  # Plot each column\n",
    "rows = np.arange(insertion_counts.shape[0])\n",
    "fig, ax = plt.subplots(figsize=(10, 10))\n",
    "for col_idx in range(insertion_counts.shape[1] - 1):\n",
    "    plt.plot(rows, cumulative_sums[:, col_idx], label=f\"{r_operators[col_idx]}\")\n",
    "\n",
    "# Customize plot\n",
    "plt.xlabel(\"Iteration number\", fontdict=labels_dict)\n",
    "plt.ylabel(\"Number of insertions\", fontdict=labels_dict)\n",
    "plt.title(\"Number of insertions by insertion operator\", fontdict=title_dict)\n",
    "plt.legend(**legend_dict)\n",
    "plt.grid(True)\n",
    "plt.show()"
   ]
  },
  {
   "cell_type": "markdown",
   "metadata": {},
   "source": [
    "## Plotting the destroy and repair operators applications"
   ]
  },
  {
   "cell_type": "code",
   "execution_count": null,
   "metadata": {},
   "outputs": [],
   "source": [
    "destroy_operators_log_array = np.zeros(shape=(len(d_operators_log), len(d_operators)), dtype=int)\n",
    "for i, op in enumerate(d_operators_log):\n",
    "    destroy_operators_log_array[i, op] +=1\n",
    "destroy_operators_log_array = np.cumsum(destroy_operators_log_array, axis=0)"
   ]
  },
  {
   "cell_type": "code",
   "execution_count": null,
   "metadata": {},
   "outputs": [],
   "source": [
    "rows = np.arange(destroy_operators_log_array.shape[0])\n",
    "fig, ax = plt.subplots(figsize=(10, 10))\n",
    "for col_idx in range(destroy_operators_log_array.shape[1]):\n",
    "    plt.plot(\n",
    "        rows, destroy_operators_log_array[:, col_idx], label=f\"{d_operators[col_idx]}\"\n",
    "    )\n",
    "\n",
    "# Customize plot\n",
    "plt.xlabel(\"Iteration number\", fontdict=labels_dict)\n",
    "plt.ylabel(\"Number of applications\", fontdict=labels_dict)\n",
    "plt.title(\"Number of destroy operator applications\", fontdict=title_dict)\n",
    "plt.legend(**legend_dict)\n",
    "plt.grid(True)\n",
    "plt.show()"
   ]
  },
  {
   "cell_type": "code",
   "execution_count": null,
   "metadata": {},
   "outputs": [],
   "source": [
    "results_df = pd.DataFrame(result.statistics.destroy_operator_counts)\n",
    "reasons = [\"Global best\", \"Better\", \"Accepted\" , \"Rejected\"]\n",
    "x = np.arange(len(reasons))\n",
    "width = 0.20\n",
    "multiplier = 0\n",
    "\n",
    "fig, ax = plt.subplots(layout='constrained', figsize=(6, 6))\n",
    "fig.tight_layout()\n",
    "for attribute, measurement in results_df.items():\n",
    "    offset = width*multiplier\n",
    "    rects = ax.bar(x + offset, measurement, width, label=attribute)\n",
    "    ax.bar_label(rects, padding=3)\n",
    "    multiplier += 1\n",
    "\n",
    "ax.set_ylabel('Count')\n",
    "ax.set_title('Destroy operator counts')\n",
    "ax.set_xticks(x + width, reasons)\n",
    "ax.legend(loc='right', ncols=1)\n",
    "# ax.set_xlim(0, 4)\n",
    "\n",
    "plt.show()"
   ]
  },
  {
   "cell_type": "code",
   "execution_count": null,
   "metadata": {},
   "outputs": [],
   "source": [
    "repair_operators_log_array = np.zeros(\n",
    "    shape=(len(r_operators_log), len(r_operators)), dtype=int\n",
    ")\n",
    "for i, op in enumerate(r_operators_log):\n",
    "    repair_operators_log_array[i, op] += 1\n",
    "repair_operators_log_array = np.cumsum(repair_operators_log_array, axis=0)"
   ]
  },
  {
   "cell_type": "code",
   "execution_count": null,
   "metadata": {},
   "outputs": [],
   "source": [
    "rows = np.arange(repair_operators_log_array.shape[0])\n",
    "fig, ax = plt.subplots(figsize=(10, 10))\n",
    "for col_idx in range(repair_operators_log_array.shape[1]):\n",
    "    plt.plot(\n",
    "        rows, repair_operators_log_array[:, col_idx], label=f\"{d_operators[col_idx]}\"\n",
    "    )\n",
    "\n",
    "# Customize plot\n",
    "plt.xlabel(\"Iteration number\", fontdict=labels_dict)\n",
    "plt.ylabel(\"Number of applications\", fontdict=labels_dict)\n",
    "plt.title(\"Number of insertion operator applications\", fontdict=title_dict)\n",
    "plt.legend(**legend_dict)\n",
    "plt.grid(True)\n",
    "plt.show()"
   ]
  },
  {
   "cell_type": "code",
   "execution_count": null,
   "metadata": {},
   "outputs": [],
   "source": [
    "results_df = pd.DataFrame(result.statistics.repair_operator_counts)\n",
    "print(results_df)\n",
    "\n",
    "reasons = [\"Global best\", \"Better\", \"Accepted\", \"Rejected\"]\n",
    "x = np.arange(len(reasons))\n",
    "width = 0.25\n",
    "multiplier = 0\n",
    "\n",
    "fig, ax = plt.subplots(layout=\"constrained\")\n",
    "\n",
    "for attribute, measurement in results_df.items():\n",
    "    offset = width * multiplier\n",
    "    rects = ax.bar(x + offset, measurement, width, label=attribute)\n",
    "    ax.bar_label(rects, padding=3)\n",
    "    multiplier += 1\n",
    "\n",
    "ax.set_ylabel(\"Count\")\n",
    "ax.set_title(\"Repair operator counts\")\n",
    "ax.set_xticks(x + width, reasons)\n",
    "ax.legend(loc=\"upper left\", ncols=4)\n",
    "ax.set_xlim(0, 4)"
   ]
  },
  {
   "cell_type": "markdown",
   "metadata": {},
   "source": [
    "## Overall results"
   ]
  },
  {
   "cell_type": "code",
   "execution_count": null,
   "metadata": {},
   "outputs": [],
   "source": [
    "solution = result.best_state\n",
    "objective = solution.objective()\n",
    "print(f\"Best heuristic objective is {objective}.\")"
   ]
  },
  {
   "cell_type": "code",
   "execution_count": null,
   "metadata": {},
   "outputs": [],
   "source": [
    "_, ax = plt.subplots(figsize=(12, 6))\n",
    "result.plot_objectives(ax=ax)"
   ]
  },
  {
   "cell_type": "code",
   "execution_count": null,
   "metadata": {},
   "outputs": [],
   "source": [
    "plot_solution(data, initial_solution, \"Nearest-neighbor-solution\", save=True, figsize=(8, 8))\n",
    "plot_solution(data, solution, \"Heuristic-solution\", idx_annotations=False, save=True, figsize=(8, 8))"
   ]
  },
  {
   "cell_type": "code",
   "execution_count": null,
   "metadata": {},
   "outputs": [],
   "source": [
    "plot_solution(data, initial_solution, \"Nearest-neighbor-solution\", save=False, figsize=(8, 10))\n",
    "plot_solution(data, solution, \"Heuristic-solution\", idx_annotations=False, save=False, figsize=(8, 10))"
   ]
  },
  {
   "cell_type": "code",
   "execution_count": null,
   "metadata": {},
   "outputs": [],
   "source": [
    "print(f\"There are {len(initial_solution.routes)} routes\")\n",
    "served_customers = 0\n",
    "for route in initial_solution.routes:\n",
    "    customers = [cust for cust in route.customers_list if cust not in data[\"depots\"]]\n",
    "    served_customers += len(customers)\n",
    "    print(route.customers_list)\n",
    "\n",
    "print(f\"Total number of served customers: {served_customers}\")\n"
   ]
  },
  {
   "cell_type": "code",
   "execution_count": null,
   "metadata": {},
   "outputs": [],
   "source": [
    "# Calculating the late, early, ontime and left out customers\n",
    "init_solution_stats = verify_time_windows(data, initial_solution, percentage=False)\n",
    "print(init_solution_stats)"
   ]
  },
  {
   "cell_type": "code",
   "execution_count": null,
   "metadata": {},
   "outputs": [],
   "source": [
    "init_solution_stats_copy = copy.deepcopy(init_solution_stats)\n",
    "del init_solution_stats_copy[\"sum_late\"]\n",
    "del init_solution_stats_copy[\"sum_early\"]\n",
    "del init_solution_stats_copy[\"total_served\"]"
   ]
  },
  {
   "cell_type": "code",
   "execution_count": null,
   "metadata": {},
   "outputs": [],
   "source": [
    "plt.style.use(\"_mpl-gallery-nogrid\")\n",
    "colors = plt.get_cmap(\"Blues\")(np.linspace(0.2, 0.7, len(init_solution_stats_copy)))\n",
    "\n",
    "print(init_solution_stats_copy.keys())\n",
    "\n",
    "fig, ax = plt.subplots(figsize=(8, 8))\n",
    "ax.pie(\n",
    "    init_solution_stats_copy.values(),\n",
    "    labels=[\"Early\", \"Late\", \"On time\"],\n",
    "    labeldistance=None,\n",
    "    autopct=\"%1.1f%%\",\n",
    "    textprops=labels_dict,\n",
    "    pctdistance=0.8,\n",
    "    shadow=False,\n",
    "    startangle=90,\n",
    "    colors=colors,\n",
    "    wedgeprops={\"edgecolor\": \"white\", \"linewidth\": 1},\n",
    "    frame=True,\n",
    ")\n",
    "ax.set_title(\"Initial solution\", fontdict=title_dict)\n",
    "plt.legend(**legend_dict)\n",
    "plt.axis(\"off\")\n",
    "\n",
    "plt.show()"
   ]
  },
  {
   "cell_type": "code",
   "execution_count": null,
   "metadata": {},
   "outputs": [],
   "source": [
    "print(f\"There are {len(solution.routes)} routes\")\n",
    "served_customers = 0\n",
    "for route in solution.routes:\n",
    "    customers = [cust for cust in route.customers_list if cust not in data['depots']]\n",
    "    served_customers += len(customers)\n",
    "    print(route.customers_list)\n",
    "\n",
    "\n",
    "print(f\"Total number of served customers: {served_customers}\")\n",
    "# Calculating the late, early, ontime and left out customers\n",
    "solution_stats = verify_time_windows(data, solution, percentage=False)\n",
    "print(solution_stats)"
   ]
  },
  {
   "cell_type": "code",
   "execution_count": null,
   "metadata": {},
   "outputs": [],
   "source": [
    "solution_stats_copy = copy.deepcopy(solution_stats)\n",
    "del solution_stats_copy[\"sum_late\"]\n",
    "del solution_stats_copy[\"sum_early\"]\n",
    "del solution_stats_copy[\"total_served\"]"
   ]
  },
  {
   "cell_type": "code",
   "execution_count": null,
   "metadata": {},
   "outputs": [],
   "source": [
    "plt.style.use(\"_mpl-gallery-nogrid\")\n",
    "colors = plt.get_cmap(\"Blues\")(np.linspace(0.2, 0.7, len(solution_stats_copy)))\n",
    "\n",
    "print(solution_stats_copy.keys())\n",
    "\n",
    "fig, ax = plt.subplots(figsize=(8, 8))\n",
    "ax.pie(\n",
    "    solution_stats_copy.values(),\n",
    "    labels=[\"Early\", \"Late\", \"On time\"],\n",
    "    labeldistance=None,\n",
    "    autopct=\"%1.1f%%\",\n",
    "    textprops=labels_dict,\n",
    "    pctdistance=0.8,\n",
    "    shadow=False,\n",
    "    startangle=90,\n",
    "    colors=colors,\n",
    "    wedgeprops={\"edgecolor\": \"white\", \"linewidth\": 1},\n",
    "    frame=True,\n",
    ")\n",
    "ax.set_title(\"Heuristic solution\", fontdict=title_dict)\n",
    "plt.legend(**legend_dict)\n",
    "plt.axis(\"off\")\n",
    "\n",
    "plt.show()"
   ]
  },
  {
   "cell_type": "code",
   "execution_count": null,
   "metadata": {},
   "outputs": [],
   "source": [
    "print(solution)\n",
    "print(initial_solution)"
   ]
  },
  {
   "cell_type": "markdown",
   "metadata": {},
   "source": [
    "### Solution"
   ]
  },
  {
   "cell_type": "code",
   "execution_count": null,
   "metadata": {},
   "outputs": [],
   "source": [
    "\n",
    "\n",
    "# Example usage\n",
    "# data = read_solution_format(\"path_to_file.txt\", print_data=True)\n",
    "\n",
    "bks = read_solution_format(\"/home/pettepiero/tirocinio/dial-a-ride/data/c-mdvrptw-sol/pr01.res\", print_data=False)"
   ]
  },
  {
   "cell_type": "code",
   "execution_count": null,
   "metadata": {},
   "outputs": [],
   "source": [
    "print(bks.keys())\n",
    "print(len(bks['routes']))\n",
    "\n",
    "for route in bks[\"routes\"]:\n",
    "    print(route[\"customers\"])"
   ]
  },
  {
   "cell_type": "code",
   "execution_count": null,
   "metadata": {},
   "outputs": [],
   "source": [
    "def plot_bks(data: dict, solution, name= \"BKS\", figsize=(12, 10), save=False):\n",
    "\n",
    "    fig, ax = plt.subplots(figsize=figsize)\n",
    "    cmap = plt.get_cmap(\"Set2\", solution[\"n_vehicles\"])\n",
    "    cmap\n",
    "\n",
    "    for idx, route in enumerate(solution[\"routes\"]):\n",
    "        ax.plot(\n",
    "            [data[\"node_coord\"][loc][0] for loc in route[\"customers\"]],\n",
    "            [data[\"node_coord\"][loc][1] for loc in route[\"customers\"]],\n",
    "            color=cmap(idx),\n",
    "            marker=\".\",\n",
    "            label=f\"Vehicle {route['vehicle']}\",\n",
    "        )\n",
    "        for cust in route[\"customers\"]:\n",
    "            coords = data[\"node_coord\"][cust]\n",
    "            ax.plot(coords[0], coords[1], \"o\", c=cmap(idx))\n",
    "\n",
    "    kwargs = dict(zorder=3, marker=\"X\")\n",
    "\n",
    "    for i in range(data[\"dimension\"], data[\"dimension\"] + data[\"n_depots\"]):\n",
    "        depot = data[\"node_coord\"][i]\n",
    "        ax.plot(depot[0], depot[1], c=\"tab:red\", **kwargs, label=f\"Depot {i}\")\n",
    "\n",
    "    ax.scatter(*data[\"node_coord\"][0], c=\"tab:red\", label=\"Depot 0\", **kwargs)\n",
    "\n",
    "    ax.set_title(f\"{name}\\n Total distance: {solution[\"solution_cost\"]}\")\n",
    "    ax.set_xlabel(\"X-coordinate\")\n",
    "    ax.set_ylabel(\"Y-coordinate\")\n",
    "    ax.legend(frameon=False, ncol=3)\n",
    "\n",
    "    if save:\n",
    "        plt.savefig(f\"./plots/{name}.png\")\n",
    "        plt.close()\n",
    "\n",
    "plot_bks(data, bks, \"BKS solution\",)"
   ]
  },
  {
   "cell_type": "code",
   "execution_count": null,
   "metadata": {},
   "outputs": [],
   "source": [
    "print(f\"data['node_coord][0]: {data['node_coord'][0]}\")"
   ]
  },
  {
   "cell_type": "code",
   "execution_count": null,
   "metadata": {},
   "outputs": [],
   "source": [
    "print(bks)"
   ]
  },
  {
   "cell_type": "code",
   "execution_count": null,
   "metadata": {},
   "outputs": [],
   "source": []
  }
 ],
 "metadata": {
  "kernelspec": {
   "display_name": ".venv",
   "language": "python",
   "name": "python3"
  },
  "language_info": {
   "codemirror_mode": {
    "name": "ipython",
    "version": 3
   },
   "file_extension": ".py",
   "mimetype": "text/x-python",
   "name": "python",
   "nbconvert_exporter": "python",
   "pygments_lexer": "ipython3",
   "version": "3.12.2"
  }
 },
 "nbformat": 4,
 "nbformat_minor": 2
}
